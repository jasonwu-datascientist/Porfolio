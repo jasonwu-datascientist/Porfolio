{
 "cells": [
  {
   "cell_type": "markdown",
   "metadata": {},
   "source": [
    "# Combining scrapped data into one dataframe"
   ]
  },
  {
   "cell_type": "markdown",
   "metadata": {
    "toc": true
   },
   "source": [
    "<h1>Table of Contents<span class=\"tocSkip\"></span></h1>\n",
    "<div class=\"toc\"><ul class=\"toc-item\"><li><span><a href=\"#Import-all-the-relevant-csv-files-as-dataframes-using-pandas\" data-toc-modified-id=\"Import-all-the-relevant-csv-files-as-dataframes-using-pandas-1\"><span class=\"toc-item-num\">1&nbsp;&nbsp;</span>Import all the relevant csv files as dataframes using pandas</a></span><ul class=\"toc-item\"><li><span><a href=\"#Dropping-repeats-from-each-individual-dataframe\" data-toc-modified-id=\"Dropping-repeats-from-each-individual-dataframe-1.1\"><span class=\"toc-item-num\">1.1&nbsp;&nbsp;</span>Dropping repeats from each individual dataframe</a></span></li><li><span><a href=\"#Combining-all-the-dataframes-into-one\" data-toc-modified-id=\"Combining-all-the-dataframes-into-one-1.2\"><span class=\"toc-item-num\">1.2&nbsp;&nbsp;</span>Combining all the dataframes into one</a></span></li></ul></li><li><span><a href=\"#Extracting-more-information-from-the-current-data\" data-toc-modified-id=\"Extracting-more-information-from-the-current-data-2\"><span class=\"toc-item-num\">2&nbsp;&nbsp;</span>Extracting more information from the current data</a></span><ul class=\"toc-item\"><li><span><a href=\"#Taking-just-the-salary\" data-toc-modified-id=\"Taking-just-the-salary-2.1\"><span class=\"toc-item-num\">2.1&nbsp;&nbsp;</span>Taking just the salary</a></span><ul class=\"toc-item\"><li><span><a href=\"#What-do-the-salaries-I-have-look-like?\" data-toc-modified-id=\"What-do-the-salaries-I-have-look-like?-2.1.1\"><span class=\"toc-item-num\">2.1.1&nbsp;&nbsp;</span>What do the salaries I have look like?</a></span></li><li><span><a href=\"#Using-the-pay-rate-to-find-the-true-salaries\" data-toc-modified-id=\"Using-the-pay-rate-to-find-the-true-salaries-2.1.2\"><span class=\"toc-item-num\">2.1.2&nbsp;&nbsp;</span>Using the pay rate to find the true salaries</a></span></li></ul></li><li><span><a href=\"#Looking-at-job-titles\" data-toc-modified-id=\"Looking-at-job-titles-2.2\"><span class=\"toc-item-num\">2.2&nbsp;&nbsp;</span>Looking at job titles</a></span><ul class=\"toc-item\"><li><span><a href=\"#What-are-the-titles-for-the-new-dataframe?\" data-toc-modified-id=\"What-are-the-titles-for-the-new-dataframe?-2.2.1\"><span class=\"toc-item-num\">2.2.1&nbsp;&nbsp;</span>What are the titles for the new dataframe?</a></span></li></ul></li></ul></li><li><span><a href=\"#Data-frame-with-grouped-job-labels\" data-toc-modified-id=\"Data-frame-with-grouped-job-labels-3\"><span class=\"toc-item-num\">3&nbsp;&nbsp;</span>Data frame with grouped job labels</a></span><ul class=\"toc-item\"><li><span><a href=\"#Revisiting-the-salary\" data-toc-modified-id=\"Revisiting-the-salary-3.1\"><span class=\"toc-item-num\">3.1&nbsp;&nbsp;</span>Revisiting the salary</a></span></li><li><span><a href=\"#Imputing-salaries-using-the-medians\" data-toc-modified-id=\"Imputing-salaries-using-the-medians-3.2\"><span class=\"toc-item-num\">3.2&nbsp;&nbsp;</span>Imputing salaries using the medians</a></span><ul class=\"toc-item\"><li><ul class=\"toc-item\"><li><span><a href=\"#Imputing-the-salaries-as-a-continuous-variable.\" data-toc-modified-id=\"Imputing-the-salaries-as-a-continuous-variable.-3.2.0.1\"><span class=\"toc-item-num\">3.2.0.1&nbsp;&nbsp;</span>Imputing the salaries as a continuous variable.</a></span></li></ul></li></ul></li></ul></li><li><span><a href=\"#Extracting-locations\" data-toc-modified-id=\"Extracting-locations-4\"><span class=\"toc-item-num\">4&nbsp;&nbsp;</span>Extracting locations</a></span></li><li><span><a href=\"#Final-dataframe-removing-irrelevant-information\" data-toc-modified-id=\"Final-dataframe-removing-irrelevant-information-5\"><span class=\"toc-item-num\">5&nbsp;&nbsp;</span>Final dataframe removing irrelevant information</a></span></li></ul></div>"
   ]
  },
  {
   "cell_type": "code",
   "execution_count": 1,
   "metadata": {},
   "outputs": [],
   "source": [
    "import pandas as pd\n",
    "import numpy as np\n",
    "from sklearn.feature_extraction.text import CountVectorizer\n",
    "import matplotlib as plt\n",
    "%matplotlib inline\n",
    "import re"
   ]
  },
  {
   "cell_type": "markdown",
   "metadata": {},
   "source": [
    "## Import all the relevant csv files as dataframes using pandas"
   ]
  },
  {
   "cell_type": "code",
   "execution_count": 2,
   "metadata": {},
   "outputs": [],
   "source": [
    "buissness_intelligence=pd.read_csv('./dataset/buisiness_intelligence_jobs.csv', sep='\\t')\n",
    "data_analyst=pd.read_csv('./dataset/data_analyst_jobs.csv',sep='\\t')\n",
    "data_science=pd.read_csv('./dataset/data_science.csv',sep='\\t')\n",
    "data_scientist=pd.read_csv('./dataset/data_scientist_jobs.csv',sep='\\t')\n",
    "insights_analyst=pd.read_csv('./dataset/insights_analysts_jobs.csv',sep='\\t')\n",
    "data_analyst_aus=pd.read_csv('./dataset/data_analyst_Aus.csv',sep='\\t')\n",
    "data_scientist_VIC=pd.read_csv('./dataset/data_scientist_VIC.csv',sep='\\t')\n",
    "data_analyst_VIC=pd.read_csv('./dataset/data_analyst_VIC.csv',sep='\\t')\n",
    "data_science_Aus=pd.read_csv('./dataset/data_science_Aus.csv',sep='\\t')\n",
    "complete_data_scientist=pd.read_csv('./dataset/complete_data_scientist.csv', sep='\\t')\n",
    "complete_data_analyst=pd.read_csv('./dataset/complete_data_analyst.csv', sep='\\t')\n",
    "complete_business_analyst=pd.read_csv('./dataset/complete_business_analyst.csv', sep='\\t')"
   ]
  },
  {
   "cell_type": "markdown",
   "metadata": {},
   "source": [
    "### Dropping repeats from each individual dataframe\n",
    "\n",
    "I created a function that will take a dataframe as the input and drop any duplicates within the data frame and drop the irrelevant column that was originally the index for each job."
   ]
  },
  {
   "cell_type": "code",
   "execution_count": 3,
   "metadata": {},
   "outputs": [],
   "source": [
    "def drop_repeats(list_of_df):\n",
    "    for df in list_of_df:\n",
    "        df.drop('Unnamed: 0',axis=1,inplace=True)\n",
    "        df.drop_duplicates(inplace=True)\n",
    "    "
   ]
  },
  {
   "cell_type": "markdown",
   "metadata": {},
   "source": [
    "I created a list with all my dataframes within to pass through the function and then apply the function"
   ]
  },
  {
   "cell_type": "code",
   "execution_count": 4,
   "metadata": {},
   "outputs": [],
   "source": [
    "list_of_df=[buissness_intelligence,data_analyst,data_science,data_scientist,\n",
    "            insights_analyst,data_analyst_aus,data_scientist_VIC,data_analyst_VIC,data_science_Aus,\n",
    "           complete_data_scientist,complete_data_analyst,complete_business_analyst]"
   ]
  },
  {
   "cell_type": "code",
   "execution_count": 5,
   "metadata": {},
   "outputs": [],
   "source": [
    "drop_repeats(list_of_df)"
   ]
  },
  {
   "cell_type": "markdown",
   "metadata": {},
   "source": [
    "### Combining all the dataframes into one\n",
    "Using panda's concat function I joined all the dataframes into one and ignored the index."
   ]
  },
  {
   "cell_type": "code",
   "execution_count": 6,
   "metadata": {},
   "outputs": [],
   "source": [
    "job_df=pd.concat(list_of_df,ignore_index=True)"
   ]
  },
  {
   "cell_type": "code",
   "execution_count": 7,
   "metadata": {},
   "outputs": [
    {
     "data": {
      "text/plain": [
       "(6735, 4)"
      ]
     },
     "execution_count": 7,
     "metadata": {},
     "output_type": "execute_result"
    }
   ],
   "source": [
    "#Checking the dimensions of the resulting dataframe as a reference before dropping more diplicates\n",
    "job_df.shape"
   ]
  },
  {
   "cell_type": "code",
   "execution_count": 8,
   "metadata": {},
   "outputs": [],
   "source": [
    "job_df.drop_duplicates(inplace=True)"
   ]
  },
  {
   "cell_type": "markdown",
   "metadata": {},
   "source": [
    "The new resulting dataframe has 4 rows and 4644 columns"
   ]
  },
  {
   "cell_type": "code",
   "execution_count": 9,
   "metadata": {},
   "outputs": [
    {
     "data": {
      "text/plain": [
       "(4644, 4)"
      ]
     },
     "execution_count": 9,
     "metadata": {},
     "output_type": "execute_result"
    }
   ],
   "source": [
    "job_df.shape"
   ]
  },
  {
   "cell_type": "markdown",
   "metadata": {},
   "source": [
    "## Extracting more information from the current data"
   ]
  },
  {
   "cell_type": "markdown",
   "metadata": {},
   "source": [
    "### Taking just the salary\n",
    "I have used regular expression to go through each entry in my 'salary' column and tanken out only the numbers which start with '__$__'"
   ]
  },
  {
   "cell_type": "code",
   "execution_count": 10,
   "metadata": {},
   "outputs": [],
   "source": [
    "def split_it(entry):\n",
    "    return re.findall('\\$\\d+(?:\\,\\d+)?(?:\\s\\d+)?', entry)"
   ]
  },
  {
   "cell_type": "code",
   "execution_count": 11,
   "metadata": {},
   "outputs": [],
   "source": [
    "job_df['revised_salary'] = job_df['salary'].map(split_it)"
   ]
  },
  {
   "cell_type": "code",
   "execution_count": 12,
   "metadata": {},
   "outputs": [
    {
     "data": {
      "text/plain": [
       "0    [$60,000, $85,000]\n",
       "1            [$100,000]\n",
       "2            [$155,000]\n",
       "3                    []\n",
       "4                    []\n",
       "Name: revised_salary, dtype: object"
      ]
     },
     "execution_count": 12,
     "metadata": {},
     "output_type": "execute_result"
    }
   ],
   "source": [
    "job_df.revised_salary.head()"
   ]
  },
  {
   "cell_type": "markdown",
   "metadata": {},
   "source": [
    "Any where there was no salary I wanted to replace with __NAN__ this will allow me to do calculations on that column later on."
   ]
  },
  {
   "cell_type": "code",
   "execution_count": 13,
   "metadata": {},
   "outputs": [],
   "source": [
    "job_df.revised_salary = job_df.revised_salary.apply(lambda x: np.nan if len(x)==0 else x)"
   ]
  },
  {
   "cell_type": "code",
   "execution_count": 14,
   "metadata": {},
   "outputs": [
    {
     "data": {
      "text/plain": [
       "0    [$60,000, $85,000]\n",
       "1            [$100,000]\n",
       "2            [$155,000]\n",
       "3                   NaN\n",
       "4                   NaN\n",
       "Name: revised_salary, dtype: object"
      ]
     },
     "execution_count": 14,
     "metadata": {},
     "output_type": "execute_result"
    }
   ],
   "source": [
    "job_df.revised_salary.head()"
   ]
  },
  {
   "cell_type": "markdown",
   "metadata": {},
   "source": [
    "**There are 969 jobs with salaries in my dataframe **"
   ]
  },
  {
   "cell_type": "code",
   "execution_count": 15,
   "metadata": {
    "scrolled": true
   },
   "outputs": [
    {
     "data": {
      "text/plain": [
       "969"
      ]
     },
     "execution_count": 15,
     "metadata": {},
     "output_type": "execute_result"
    }
   ],
   "source": [
    "#I used the number of rows in my overall dataframe and minused with the number of null values in the new column\n",
    "job_df.shape[0]-job_df.revised_salary.isnull().sum()"
   ]
  },
  {
   "cell_type": "markdown",
   "metadata": {},
   "source": [
    "This leaves me with a list of strings that have a salary but also contains other information such as '__$__' and '__,__'. To tackle this issue, I made a function to only return numbers in a string."
   ]
  },
  {
   "cell_type": "code",
   "execution_count": 16,
   "metadata": {},
   "outputs": [],
   "source": [
    "def clean(val):\n",
    "    if type(val)!=float:\n",
    "        i=re.sub('(\\$)','', str(val))\n",
    "        i=re.sub(\"(\\')\", \"\",i)\n",
    "        i=re.sub(\"(\\,)\", \"\",i)\n",
    "        i=re.sub(\"(\\[)\", \"\",i)\n",
    "        i=re.sub(\"(\\])\", \"\",i)\n",
    "        a= i.split(' ')\n",
    "        numbers=[int(x) for x in a]\n",
    "        return numbers\n"
   ]
  },
  {
   "cell_type": "code",
   "execution_count": 17,
   "metadata": {
    "scrolled": true
   },
   "outputs": [],
   "source": [
    "job_df.revised_salary=job_df.revised_salary.apply(clean)"
   ]
  },
  {
   "cell_type": "code",
   "execution_count": 18,
   "metadata": {},
   "outputs": [
    {
     "data": {
      "text/plain": [
       "0    [60000, 85000]\n",
       "1          [100000]\n",
       "2          [155000]\n",
       "3              None\n",
       "4              None\n",
       "Name: revised_salary, dtype: object"
      ]
     },
     "execution_count": 18,
     "metadata": {},
     "output_type": "execute_result"
    }
   ],
   "source": [
    "job_df.revised_salary.head()"
   ]
  },
  {
   "cell_type": "markdown",
   "metadata": {},
   "source": [
    "Where there is a salary range, I want instead just a single number, this is critical to allow me to do my regression analysis. I decided to use just teh average between the two ranges and take that as the expected salary for each job where applicable. Doing it in this way, even if there a is a single number estimation for the salary, it won't change."
   ]
  },
  {
   "cell_type": "code",
   "execution_count": 19,
   "metadata": {
    "scrolled": true
   },
   "outputs": [],
   "source": [
    "job_df.revised_salary=job_df.revised_salary.fillna(0).apply(np.mean)"
   ]
  },
  {
   "cell_type": "code",
   "execution_count": 20,
   "metadata": {},
   "outputs": [
    {
     "data": {
      "text/plain": [
       "0     72500.0\n",
       "1    100000.0\n",
       "2    155000.0\n",
       "3         0.0\n",
       "4         0.0\n",
       "Name: revised_salary, dtype: float64"
      ]
     },
     "execution_count": 20,
     "metadata": {},
     "output_type": "execute_result"
    }
   ],
   "source": [
    "job_df.revised_salary.head()"
   ]
  },
  {
   "cell_type": "markdown",
   "metadata": {},
   "source": [
    "I will have to replace any '__0__' values again with __NAN__ to make further transformations possible."
   ]
  },
  {
   "cell_type": "code",
   "execution_count": 21,
   "metadata": {},
   "outputs": [],
   "source": [
    "job_df.revised_salary.replace({0:np.nan},inplace=True)"
   ]
  },
  {
   "cell_type": "markdown",
   "metadata": {},
   "source": [
    "#### What do the salaries I have look like?\n",
    "It seems there are salaries in different formats given by different employers.\n",
    "\n",
    "A yearly salary can't possibly be less than $26, so what do they mean?"
   ]
  },
  {
   "cell_type": "code",
   "execution_count": 22,
   "metadata": {},
   "outputs": [
    {
     "data": {
      "text/html": [
       "<div>\n",
       "<style scoped>\n",
       "    .dataframe tbody tr th:only-of-type {\n",
       "        vertical-align: middle;\n",
       "    }\n",
       "\n",
       "    .dataframe tbody tr th {\n",
       "        vertical-align: top;\n",
       "    }\n",
       "\n",
       "    .dataframe thead th {\n",
       "        text-align: right;\n",
       "    }\n",
       "</style>\n",
       "<table border=\"1\" class=\"dataframe\">\n",
       "  <thead>\n",
       "    <tr style=\"text-align: right;\">\n",
       "      <th></th>\n",
       "      <th>description</th>\n",
       "      <th>location</th>\n",
       "      <th>salary</th>\n",
       "      <th>title</th>\n",
       "      <th>revised_salary</th>\n",
       "    </tr>\n",
       "  </thead>\n",
       "  <tbody>\n",
       "    <tr>\n",
       "      <th>89</th>\n",
       "      <td>The Company\\r\\n\\r\\nAre you currently in-betwee...</td>\n",
       "      <td>- Sydney NSW</td>\n",
       "      <td>BI AdministratorRobert Half Australia6,884 rev...</td>\n",
       "      <td>BI Administrator</td>\n",
       "      <td>26.0</td>\n",
       "    </tr>\n",
       "    <tr>\n",
       "      <th>389</th>\n",
       "      <td>3 Month Contract\\r\\nDesktop Support\\r\\n$36.50 ...</td>\n",
       "      <td>- Sydney NSW</td>\n",
       "      <td>Desktop Support OfficerFinite IT - Sydney NSW$...</td>\n",
       "      <td>Desktop Support Officer</td>\n",
       "      <td>36.0</td>\n",
       "    </tr>\n",
       "    <tr>\n",
       "      <th>451</th>\n",
       "      <td>Seeking Financial Accountant to assist the Fin...</td>\n",
       "      <td>- Sydney NSW</td>\n",
       "      <td>Financial AccountantMorgan McKinley19 reviews ...</td>\n",
       "      <td>Financial Accountant</td>\n",
       "      <td>60.0</td>\n",
       "    </tr>\n",
       "    <tr>\n",
       "      <th>480</th>\n",
       "      <td>Heavy vehicle mechanic needed for Afternoon or...</td>\n",
       "      <td>- Arncliffe NSW</td>\n",
       "      <td>Heavy Vehicle Mechanic ( Afternoon or Bi weekl...</td>\n",
       "      <td>Heavy Vehicle Mechanic ( Afternoon or Bi weekl...</td>\n",
       "      <td>34.5</td>\n",
       "    </tr>\n",
       "    <tr>\n",
       "      <th>490</th>\n",
       "      <td>ASAP – 15/02/2018\\r\\nGladesville\\r\\n$62 per Ho...</td>\n",
       "      <td>- Sydney NSW</td>\n",
       "      <td>Marketing &amp; Communications OfficerFinite IT - ...</td>\n",
       "      <td>Marketing &amp; Communications Officer</td>\n",
       "      <td>62.0</td>\n",
       "    </tr>\n",
       "  </tbody>\n",
       "</table>\n",
       "</div>"
      ],
      "text/plain": [
       "                                           description          location  \\\n",
       "89   The Company\\r\\n\\r\\nAre you currently in-betwee...      - Sydney NSW   \n",
       "389  3 Month Contract\\r\\nDesktop Support\\r\\n$36.50 ...      - Sydney NSW   \n",
       "451  Seeking Financial Accountant to assist the Fin...      - Sydney NSW   \n",
       "480  Heavy vehicle mechanic needed for Afternoon or...   - Arncliffe NSW   \n",
       "490  ASAP – 15/02/2018\\r\\nGladesville\\r\\n$62 per Ho...      - Sydney NSW   \n",
       "\n",
       "                                                salary  \\\n",
       "89   BI AdministratorRobert Half Australia6,884 rev...   \n",
       "389  Desktop Support OfficerFinite IT - Sydney NSW$...   \n",
       "451  Financial AccountantMorgan McKinley19 reviews ...   \n",
       "480  Heavy Vehicle Mechanic ( Afternoon or Bi weekl...   \n",
       "490  Marketing & Communications OfficerFinite IT - ...   \n",
       "\n",
       "                                                 title  revised_salary  \n",
       "89                                    BI Administrator            26.0  \n",
       "389                            Desktop Support Officer            36.0  \n",
       "451                               Financial Accountant            60.0  \n",
       "480  Heavy Vehicle Mechanic ( Afternoon or Bi weekl...            34.5  \n",
       "490                 Marketing & Communications Officer            62.0  "
      ]
     },
     "execution_count": 22,
     "metadata": {},
     "output_type": "execute_result"
    }
   ],
   "source": [
    "job_df[job_df.revised_salary<100].head()"
   ]
  },
  {
   "cell_type": "markdown",
   "metadata": {},
   "source": [
    "It seems the employers can give either an hourly rate, day rate or yearly rate."
   ]
  },
  {
   "cell_type": "code",
   "execution_count": 23,
   "metadata": {},
   "outputs": [
    {
     "name": "stdout",
     "output_type": "stream",
     "text": [
      "BI AdministratorRobert Half Australia6,884 reviews - Sydney NSW$26 an hour\n",
      "Payments and Cards Business AnalystPia Recruitment - Melbourne VIC$110 a day - Contract\n",
      "Business Intelligence AnalystRobert Half Australia6,884 reviews - Sydney NSW$100,000 a year - Permanent\n"
     ]
    }
   ],
   "source": [
    "#Finding jobs where the salary is $26 and seeing what they really mean\n",
    "print(job_df[job_df.revised_salary==26].iloc[0,2])\n",
    "print(job_df[job_df.revised_salary<500].iloc[50,2])\n",
    "print(job_df[job_df.revised_salary>80000].iloc[0,2])"
   ]
  },
  {
   "cell_type": "markdown",
   "metadata": {},
   "source": [
    "I will need to extract this pay rate information from the data available. I will be using regular expression to do this and putting the information into a new column."
   ]
  },
  {
   "cell_type": "code",
   "execution_count": 24,
   "metadata": {},
   "outputs": [],
   "source": [
    "def pay_rate(year):\n",
    "    jobs=re.findall('(\\.*?a day*?\\w+)', year,re.IGNORECASE)\n",
    "    jobs1=re.findall('(\\.*?an hour*?\\w+)', year,re.IGNORECASE)\n",
    "    jobs2=re.findall('(\\.*?a week*?\\w+)', year,re.IGNORECASE)\n",
    "\n",
    "    return (jobs,jobs1,jobs2)"
   ]
  },
  {
   "cell_type": "code",
   "execution_count": 25,
   "metadata": {},
   "outputs": [],
   "source": [
    "job_df['pay_rate']=job_df.salary.apply(pay_rate)"
   ]
  },
  {
   "cell_type": "code",
   "execution_count": 26,
   "metadata": {},
   "outputs": [
    {
     "data": {
      "text/plain": [
       "6709    ([a day], [], [])\n",
       "Name: pay_rate, dtype: object"
      ]
     },
     "execution_count": 26,
     "metadata": {},
     "output_type": "execute_result"
    }
   ],
   "source": [
    "#Here is an example of the outcome of my function\n",
    "job_df.pay_rate.tail(20).head(1)"
   ]
  },
  {
   "cell_type": "markdown",
   "metadata": {},
   "source": [
    "It isn't quite in the format that I need yet so I will need to go through and drop the extra empty list and just have a singluar value in the column where possible."
   ]
  },
  {
   "cell_type": "code",
   "execution_count": 27,
   "metadata": {},
   "outputs": [],
   "source": [
    "def just_one(lis):\n",
    "    for entry in lis:\n",
    "        for i in entry:\n",
    "            if len(i)>2:\n",
    "                return(i)\n",
    "            else:\n",
    "                return np.nan"
   ]
  },
  {
   "cell_type": "code",
   "execution_count": 28,
   "metadata": {},
   "outputs": [],
   "source": [
    "job_df.pay_rate=job_df.pay_rate.apply(just_one)"
   ]
  },
  {
   "cell_type": "code",
   "execution_count": 29,
   "metadata": {},
   "outputs": [
    {
     "data": {
      "text/plain": [
       "'a day'"
      ]
     },
     "execution_count": 29,
     "metadata": {},
     "output_type": "execute_result"
    }
   ],
   "source": [
    "#Here is the example from above after running the function\n",
    "job_df.pay_rate.values[-20]"
   ]
  },
  {
   "cell_type": "markdown",
   "metadata": {},
   "source": [
    "#### Using the pay rate to find the true salaries"
   ]
  },
  {
   "cell_type": "code",
   "execution_count": 30,
   "metadata": {},
   "outputs": [],
   "source": [
    "#If there is no value in pay rate for that row I will assume that they meant to have it as a yearly rate\n",
    "#and so will replace null values with 1\n",
    "job_df.pay_rate.fillna(1,inplace=True)"
   ]
  },
  {
   "cell_type": "markdown",
   "metadata": {},
   "source": [
    "I then created a function to return a number depending on what the pay rate is. I calculated the number to return based on an average working year. The average person works an **8** hour day, **5** days a week, **49** weeks a year. This means for an hourly rate, I want to return **1960** which is the number of hours the average person will work in a year. for a day rate, I want to return **245** which is the number of days an average person will work in a year. If I had no pay rate, as I mentioned earlier, I will assume it is a yearly rate so I will return **1**."
   ]
  },
  {
   "cell_type": "code",
   "execution_count": 31,
   "metadata": {},
   "outputs": [],
   "source": [
    "def pay_multiply(rate):\n",
    "    \n",
    "    if rate =='an hour':\n",
    "        a=1960\n",
    "        return a\n",
    "    if rate =='a day':\n",
    "        a=245\n",
    "        return a\n",
    "    if rate =='a week':\n",
    "        a=49\n",
    "        return a\n",
    "    if rate ==1:\n",
    "        a=1\n",
    "        return a\n",
    "\n",
    "    "
   ]
  },
  {
   "cell_type": "markdown",
   "metadata": {},
   "source": [
    "I will run this function and return the numbers into a new column and then apply the pay rate to the salaries to obtain the actual yearly salaries."
   ]
  },
  {
   "cell_type": "code",
   "execution_count": 32,
   "metadata": {
    "scrolled": true
   },
   "outputs": [],
   "source": [
    "job_df['pay_multiplier']=job_df.pay_rate.apply(pay_multiply)"
   ]
  },
  {
   "cell_type": "code",
   "execution_count": 33,
   "metadata": {},
   "outputs": [],
   "source": [
    "job_df.revised_salary=job_df.revised_salary*job_df.pay_multiplier"
   ]
  },
  {
   "cell_type": "code",
   "execution_count": 34,
   "metadata": {},
   "outputs": [
    {
     "data": {
      "text/html": [
       "<div>\n",
       "<style scoped>\n",
       "    .dataframe tbody tr th:only-of-type {\n",
       "        vertical-align: middle;\n",
       "    }\n",
       "\n",
       "    .dataframe tbody tr th {\n",
       "        vertical-align: top;\n",
       "    }\n",
       "\n",
       "    .dataframe thead th {\n",
       "        text-align: right;\n",
       "    }\n",
       "</style>\n",
       "<table border=\"1\" class=\"dataframe\">\n",
       "  <thead>\n",
       "    <tr style=\"text-align: right;\">\n",
       "      <th></th>\n",
       "      <th>description</th>\n",
       "      <th>location</th>\n",
       "      <th>salary</th>\n",
       "      <th>title</th>\n",
       "      <th>revised_salary</th>\n",
       "      <th>pay_rate</th>\n",
       "      <th>pay_multiplier</th>\n",
       "    </tr>\n",
       "  </thead>\n",
       "  <tbody>\n",
       "    <tr>\n",
       "      <th>1312</th>\n",
       "      <td>Employment Type: Permanent Full Time\\r\\nPositi...</td>\n",
       "      <td>- Royal North Shore Hospital NSW</td>\n",
       "      <td>Senior Analyst Cost Accounting (Clinical Costi...</td>\n",
       "      <td>Senior Analyst Cost Accounting (Clinical Costing)</td>\n",
       "      <td>2275.5</td>\n",
       "      <td>1</td>\n",
       "      <td>1.0</td>\n",
       "    </tr>\n",
       "    <tr>\n",
       "      <th>1921</th>\n",
       "      <td>Our client is a large innovative organisation ...</td>\n",
       "      <td>- Sydney NSW</td>\n",
       "      <td>Solution Architect ($1200pd Contract)Bloc IT R...</td>\n",
       "      <td>Solution Architect ($1200pd Contract)</td>\n",
       "      <td>1200.0</td>\n",
       "      <td>1</td>\n",
       "      <td>1.0</td>\n",
       "    </tr>\n",
       "    <tr>\n",
       "      <th>2362</th>\n",
       "      <td>Leverage your extensive Financial Modelling ex...</td>\n",
       "      <td>- North Shore NSW</td>\n",
       "      <td>FP&amp;A Analyst $60ph + Super (3mth assignment)Re...</td>\n",
       "      <td>FP&amp;A Analyst $60ph + Super (3mth assignment)</td>\n",
       "      <td>60.0</td>\n",
       "      <td>1</td>\n",
       "      <td>1.0</td>\n",
       "    </tr>\n",
       "    <tr>\n",
       "      <th>5456</th>\n",
       "      <td>Our client is seeking an experienced Data Ware...</td>\n",
       "      <td>- Melbourne VIC</td>\n",
       "      <td>Data Warehouse Architect - Up to $140KTotal Re...</td>\n",
       "      <td>Data Warehouse Architect - Up to $140K</td>\n",
       "      <td>140.0</td>\n",
       "      <td>1</td>\n",
       "      <td>1.0</td>\n",
       "    </tr>\n",
       "    <tr>\n",
       "      <th>6237</th>\n",
       "      <td>This globally recognised Telco company is curr...</td>\n",
       "      <td>- Sydney NSW</td>\n",
       "      <td>Business Analyst | Telco | Product | $850 p/d ...</td>\n",
       "      <td>Business Analyst | Telco | Product | $850 p/d ...</td>\n",
       "      <td>850.0</td>\n",
       "      <td>1</td>\n",
       "      <td>1.0</td>\n",
       "    </tr>\n",
       "  </tbody>\n",
       "</table>\n",
       "</div>"
      ],
      "text/plain": [
       "                                            description  \\\n",
       "1312  Employment Type: Permanent Full Time\\r\\nPositi...   \n",
       "1921  Our client is a large innovative organisation ...   \n",
       "2362  Leverage your extensive Financial Modelling ex...   \n",
       "5456  Our client is seeking an experienced Data Ware...   \n",
       "6237  This globally recognised Telco company is curr...   \n",
       "\n",
       "                               location  \\\n",
       "1312   - Royal North Shore Hospital NSW   \n",
       "1921                       - Sydney NSW   \n",
       "2362                  - North Shore NSW   \n",
       "5456                    - Melbourne VIC   \n",
       "6237                       - Sydney NSW   \n",
       "\n",
       "                                                 salary  \\\n",
       "1312  Senior Analyst Cost Accounting (Clinical Costi...   \n",
       "1921  Solution Architect ($1200pd Contract)Bloc IT R...   \n",
       "2362  FP&A Analyst $60ph + Super (3mth assignment)Re...   \n",
       "5456  Data Warehouse Architect - Up to $140KTotal Re...   \n",
       "6237  Business Analyst | Telco | Product | $850 p/d ...   \n",
       "\n",
       "                                                  title  revised_salary  \\\n",
       "1312  Senior Analyst Cost Accounting (Clinical Costing)          2275.5   \n",
       "1921              Solution Architect ($1200pd Contract)          1200.0   \n",
       "2362       FP&A Analyst $60ph + Super (3mth assignment)            60.0   \n",
       "5456             Data Warehouse Architect - Up to $140K           140.0   \n",
       "6237  Business Analyst | Telco | Product | $850 p/d ...           850.0   \n",
       "\n",
       "     pay_rate  pay_multiplier  \n",
       "1312        1             1.0  \n",
       "1921        1             1.0  \n",
       "2362        1             1.0  \n",
       "5456        1             1.0  \n",
       "6237        1             1.0  "
      ]
     },
     "execution_count": 34,
     "metadata": {},
     "output_type": "execute_result"
    }
   ],
   "source": [
    "job_df[job_df.revised_salary < 3000].head()"
   ]
  },
  {
   "cell_type": "markdown",
   "metadata": {},
   "source": [
    "Getting this result although it is not exactly what I am after, I will move on and instead focus on jsut keeping the jobs I am after before returning to cleaning up the data more."
   ]
  },
  {
   "cell_type": "code",
   "execution_count": 35,
   "metadata": {},
   "outputs": [
    {
     "data": {
      "text/plain": [
       "'Solution Architect ($1200pd Contract)Bloc IT Recruitment - Sydney NSW'"
      ]
     },
     "execution_count": 35,
     "metadata": {},
     "output_type": "execute_result"
    }
   ],
   "source": [
    "# This entry shows me that although I can clean this more, the job title is irrelevant to what I am after\n",
    "job_df[job_df.revised_salary < 3000].iloc[1,2]"
   ]
  },
  {
   "cell_type": "markdown",
   "metadata": {},
   "source": [
    "### Looking at job titles\n",
    "This job title column is quite messy and will require quite a bit of cleaning with regular expressions to make it usable. Thankfully there does seem to be a nice bulk of relevant job titles that I am after already."
   ]
  },
  {
   "cell_type": "code",
   "execution_count": 36,
   "metadata": {
    "scrolled": true
   },
   "outputs": [
    {
     "data": {
      "text/plain": [
       "Business Analyst              170\n",
       "Data Scientist                 75\n",
       "Data Analyst                   61\n",
       "Senior Business Analyst        59\n",
       "Technical Business Analyst     32\n",
       "Name: title, dtype: int64"
      ]
     },
     "execution_count": 36,
     "metadata": {},
     "output_type": "execute_result"
    }
   ],
   "source": [
    "job_df.title.value_counts().head()"
   ]
  },
  {
   "cell_type": "markdown",
   "metadata": {},
   "source": [
    "I am defining the functions that I will use to determine the job titles for each of the jobs. Basically, if they contain the specific words, I will return the title"
   ]
  },
  {
   "cell_type": "code",
   "execution_count": 37,
   "metadata": {},
   "outputs": [],
   "source": [
    "def just_jobs_data(year):\n",
    "    jobs=re.findall('(\\.*?Data scientist*?\\w+)', year,re.IGNORECASE)\n",
    "    return (' '.join(jobs))"
   ]
  },
  {
   "cell_type": "code",
   "execution_count": 38,
   "metadata": {},
   "outputs": [],
   "source": [
    "def just_jobs_analyst(year):\n",
    "    jobs1=re.findall('(\\.*?data analyst*?\\w+)', year,re.IGNORECASE)\n",
    "    return (' '.join(jobs1))\n"
   ]
  },
  {
   "cell_type": "code",
   "execution_count": 39,
   "metadata": {},
   "outputs": [],
   "source": [
    "def just_jobs_business(year):\n",
    "    jobs1=re.findall('(\\.*?business analyst*?\\w+)', year,re.IGNORECASE)\n",
    "    return (' '.join(jobs1))\n"
   ]
  },
  {
   "cell_type": "code",
   "execution_count": 40,
   "metadata": {
    "scrolled": true
   },
   "outputs": [],
   "source": [
    "job_df['data_scientist']=job_df.title.map(just_jobs_data)"
   ]
  },
  {
   "cell_type": "code",
   "execution_count": 41,
   "metadata": {},
   "outputs": [],
   "source": [
    "job_df['data_analyst']=job_df.title.map(just_jobs_analyst)"
   ]
  },
  {
   "cell_type": "code",
   "execution_count": 42,
   "metadata": {},
   "outputs": [],
   "source": [
    "job_df['business_analyst']=job_df.title.map(just_jobs_business)"
   ]
  },
  {
   "cell_type": "markdown",
   "metadata": {},
   "source": [
    "What I have now is a new row for each of the relevant titles and if they appear in the 'title' this is what they are called as."
   ]
  },
  {
   "cell_type": "code",
   "execution_count": 43,
   "metadata": {},
   "outputs": [
    {
     "data": {
      "text/html": [
       "<div>\n",
       "<style scoped>\n",
       "    .dataframe tbody tr th:only-of-type {\n",
       "        vertical-align: middle;\n",
       "    }\n",
       "\n",
       "    .dataframe tbody tr th {\n",
       "        vertical-align: top;\n",
       "    }\n",
       "\n",
       "    .dataframe thead th {\n",
       "        text-align: right;\n",
       "    }\n",
       "</style>\n",
       "<table border=\"1\" class=\"dataframe\">\n",
       "  <thead>\n",
       "    <tr style=\"text-align: right;\">\n",
       "      <th></th>\n",
       "      <th>description</th>\n",
       "      <th>location</th>\n",
       "      <th>salary</th>\n",
       "      <th>title</th>\n",
       "      <th>revised_salary</th>\n",
       "      <th>pay_rate</th>\n",
       "      <th>pay_multiplier</th>\n",
       "      <th>data_scientist</th>\n",
       "      <th>data_analyst</th>\n",
       "      <th>business_analyst</th>\n",
       "    </tr>\n",
       "  </thead>\n",
       "  <tbody>\n",
       "    <tr>\n",
       "      <th>0</th>\n",
       "      <td>Job SummaryWe are seeking to fill an extremely...</td>\n",
       "      <td>- Sydney NSW</td>\n",
       "      <td>Team Assistant with AI companyHIVERY - Sydney ...</td>\n",
       "      <td>Team Assistant with AI company</td>\n",
       "      <td>72500.0</td>\n",
       "      <td>1</td>\n",
       "      <td>1.0</td>\n",
       "      <td></td>\n",
       "      <td></td>\n",
       "      <td></td>\n",
       "    </tr>\n",
       "    <tr>\n",
       "      <th>1</th>\n",
       "      <td>The Company\\r\\n\\r\\nAre you fascinated by the s...</td>\n",
       "      <td>- Sydney NSW</td>\n",
       "      <td>Business Intelligence AnalystRobert Half Austr...</td>\n",
       "      <td>Business Intelligence Analyst</td>\n",
       "      <td>100000.0</td>\n",
       "      <td>1</td>\n",
       "      <td>1.0</td>\n",
       "      <td></td>\n",
       "      <td></td>\n",
       "      <td></td>\n",
       "    </tr>\n",
       "    <tr>\n",
       "      <th>2</th>\n",
       "      <td>Senior Business Intelligence Consultant (Archi...</td>\n",
       "      <td>- Sydney NSW</td>\n",
       "      <td>Senior Business Intelligence ConsultantRobert ...</td>\n",
       "      <td>Senior Business Intelligence Consultant</td>\n",
       "      <td>155000.0</td>\n",
       "      <td>1</td>\n",
       "      <td>1.0</td>\n",
       "      <td></td>\n",
       "      <td></td>\n",
       "      <td></td>\n",
       "    </tr>\n",
       "    <tr>\n",
       "      <th>3</th>\n",
       "      <td>Prospa, Australia's #1 online lender to small ...</td>\n",
       "      <td>- Sydney NSW</td>\n",
       "      <td>Business Intelligence AnalystProspa - Sydney NSW</td>\n",
       "      <td>Business Intelligence Analyst</td>\n",
       "      <td>NaN</td>\n",
       "      <td>1</td>\n",
       "      <td>1.0</td>\n",
       "      <td></td>\n",
       "      <td></td>\n",
       "      <td></td>\n",
       "    </tr>\n",
       "    <tr>\n",
       "      <th>4</th>\n",
       "      <td>What’s your ambition? Is it a big goal or smal...</td>\n",
       "      <td>- Sydney NSW</td>\n",
       "      <td>Business Intelligence Reporting AnalystJLL1,87...</td>\n",
       "      <td>Business Intelligence Reporting Analyst</td>\n",
       "      <td>NaN</td>\n",
       "      <td>1</td>\n",
       "      <td>1.0</td>\n",
       "      <td></td>\n",
       "      <td></td>\n",
       "      <td></td>\n",
       "    </tr>\n",
       "  </tbody>\n",
       "</table>\n",
       "</div>"
      ],
      "text/plain": [
       "                                         description       location  \\\n",
       "0  Job SummaryWe are seeking to fill an extremely...   - Sydney NSW   \n",
       "1  The Company\\r\\n\\r\\nAre you fascinated by the s...   - Sydney NSW   \n",
       "2  Senior Business Intelligence Consultant (Archi...   - Sydney NSW   \n",
       "3  Prospa, Australia's #1 online lender to small ...   - Sydney NSW   \n",
       "4  What’s your ambition? Is it a big goal or smal...   - Sydney NSW   \n",
       "\n",
       "                                              salary  \\\n",
       "0  Team Assistant with AI companyHIVERY - Sydney ...   \n",
       "1  Business Intelligence AnalystRobert Half Austr...   \n",
       "2  Senior Business Intelligence ConsultantRobert ...   \n",
       "3   Business Intelligence AnalystProspa - Sydney NSW   \n",
       "4  Business Intelligence Reporting AnalystJLL1,87...   \n",
       "\n",
       "                                     title  revised_salary pay_rate  \\\n",
       "0           Team Assistant with AI company         72500.0        1   \n",
       "1            Business Intelligence Analyst        100000.0        1   \n",
       "2  Senior Business Intelligence Consultant        155000.0        1   \n",
       "3            Business Intelligence Analyst             NaN        1   \n",
       "4  Business Intelligence Reporting Analyst             NaN        1   \n",
       "\n",
       "   pay_multiplier data_scientist data_analyst business_analyst  \n",
       "0             1.0                                               \n",
       "1             1.0                                               \n",
       "2             1.0                                               \n",
       "3             1.0                                               \n",
       "4             1.0                                               "
      ]
     },
     "execution_count": 43,
     "metadata": {},
     "output_type": "execute_result"
    }
   ],
   "source": [
    "job_df.head()"
   ]
  },
  {
   "cell_type": "markdown",
   "metadata": {},
   "source": [
    "Anywhere where there are no entries, I have replae them with NaN"
   ]
  },
  {
   "cell_type": "code",
   "execution_count": 44,
   "metadata": {},
   "outputs": [],
   "source": [
    "job_df.data_scientist=job_df.data_scientist.apply(lambda x: np.nan if len(x)==0 else x)"
   ]
  },
  {
   "cell_type": "code",
   "execution_count": 45,
   "metadata": {},
   "outputs": [],
   "source": [
    "job_df.data_analyst=job_df.data_analyst.apply(lambda x: np.nan if len(x)==0 else x)"
   ]
  },
  {
   "cell_type": "code",
   "execution_count": 46,
   "metadata": {},
   "outputs": [],
   "source": [
    "job_df.business_analyst=job_df.business_analyst.apply(lambda x: np.nan if len(x)==0 else x)"
   ]
  },
  {
   "cell_type": "markdown",
   "metadata": {},
   "source": [
    "Using the three new columns, I can combine them all together to get specific roles that the jobs are advertising for"
   ]
  },
  {
   "cell_type": "code",
   "execution_count": 47,
   "metadata": {},
   "outputs": [],
   "source": [
    "job_df['rel_title']=job_df.data_scientist.astype(str)+job_df.data_analyst.astype(str)+job_df.business_analyst.astype(str)"
   ]
  },
  {
   "cell_type": "markdown",
   "metadata": {},
   "source": [
    "With this information now stored in a new column, any job which has 'nannannan' in the 'rel_title' column means they are not jobs in which I am interested in."
   ]
  },
  {
   "cell_type": "code",
   "execution_count": 48,
   "metadata": {},
   "outputs": [],
   "source": [
    "df=job_df[job_df.rel_title != 'nannannan']"
   ]
  },
  {
   "cell_type": "markdown",
   "metadata": {},
   "source": [
    "#### What are the titles for the new dataframe?\n",
    "Although it is a lot more cleaned, there is still quite a bit of noise that I need to filter."
   ]
  },
  {
   "cell_type": "code",
   "execution_count": 49,
   "metadata": {},
   "outputs": [
    {
     "data": {
      "text/plain": [
       "nannanBusiness Analyst                     853\n",
       "nanData Analystnan                         215\n",
       "Data Scientistnannan                       183\n",
       "nannanbusiness analyst                      16\n",
       "nandata analystnan                           7\n",
       "nannanBusiness Analysts                      7\n",
       "nanData Analystsnan                          5\n",
       "nannanBUSINESS ANALYST                       5\n",
       "nanDATA ANALYSTnan                           4\n",
       "data scientistnannan                         4\n",
       "Data Scientist Data Scientistnannan          3\n",
       "nannanBusiness analyst                       3\n",
       "Data ScientistData Analystnan                2\n",
       "nannanBusiness Analyst Business Analyst      2\n",
       "nannanBUSINESS ANALYST_CALYPSO               2\n",
       "Data Scientistsnannan                        1\n",
       "nanData AnalystBusiness Analyst              1\n",
       "Data scientistnannan                         1\n",
       "nannanBusiness Analysis                      1\n",
       "Name: rel_title, dtype: int64"
      ]
     },
     "execution_count": 49,
     "metadata": {},
     "output_type": "execute_result"
    }
   ],
   "source": [
    "df.rel_title.value_counts()"
   ]
  },
  {
   "cell_type": "markdown",
   "metadata": {},
   "source": [
    "**This is not the prettiest way to do it but I basically went through and created a dictionary to replace the titles to make them consistent**"
   ]
  },
  {
   "cell_type": "code",
   "execution_count": 50,
   "metadata": {},
   "outputs": [
    {
     "name": "stderr",
     "output_type": "stream",
     "text": [
      "C:\\Users\\Jennifer\\Anaconda3\\lib\\site-packages\\pandas\\core\\generic.py:4401: SettingWithCopyWarning: \n",
      "A value is trying to be set on a copy of a slice from a DataFrame.\n",
      "Try using .loc[row_indexer,col_indexer] = value instead\n",
      "\n",
      "See the caveats in the documentation: http://pandas.pydata.org/pandas-docs/stable/indexing.html#indexing-view-versus-copy\n",
      "  self[name] = value\n"
     ]
    }
   ],
   "source": [
    "df.rel_title=df.rel_title.replace({'nannanBusiness Analyst':'Business Analyst','nanData Analystnan':'Data Analyst',\n",
    "                      'Data Scientistnannan':'Data Scientist','nanData Analystsnan':'Data Analyst',\n",
    "                      'nannanBusiness Analysts':'Business Analyst','nandata analystnan':'Data Analyst',\n",
    "                     'data scientistnannan':'Data Scientist','Data Scientist Data Scientistnannan':'Data Scientist',\n",
    "                     'nanDATA ANALYSTnan':'Data Analyst','nannanbusiness analyst':'Business Analyst',\n",
    "                     'Data ScientistData Analystnan':'Data Analyst','Data scientistnannan':'Data Scientist',\n",
    "                     'nannanBUSINESS ANALYST':'Business Analyst','Data Scientistsnannan':'Data Scientist',\n",
    "                      'nanData AnalystBusiness Analyst':'Data Analyst','nannanBusiness analyst':'Business Analyst',\n",
    "                     'nannanBusiness Analyst Business Analyst':'Business Analyst','nannanBUSINESS ANALYST_CALYPSO':'Business Analyst',\n",
    "                                  'nannanBusiness Analysis':'Business Analyst'})"
   ]
  },
  {
   "cell_type": "markdown",
   "metadata": {},
   "source": [
    "**The resultant dataframe not has 3 consistent job categories that make sense.**"
   ]
  },
  {
   "cell_type": "code",
   "execution_count": 51,
   "metadata": {
    "scrolled": true
   },
   "outputs": [
    {
     "data": {
      "text/plain": [
       "Business Analyst    889\n",
       "Data Analyst        234\n",
       "Data Scientist      192\n",
       "Name: rel_title, dtype: int64"
      ]
     },
     "execution_count": 51,
     "metadata": {},
     "output_type": "execute_result"
    }
   ],
   "source": [
    "df.rel_title.value_counts()"
   ]
  },
  {
   "cell_type": "markdown",
   "metadata": {},
   "source": [
    "## Data frame with grouped job labels"
   ]
  },
  {
   "cell_type": "markdown",
   "metadata": {},
   "source": [
    "I used a strategy similar to above where I cleaned the salaries to instead go through and clean the seniority level for the jobs. For this I decided to filter on senior, junior and graduate."
   ]
  },
  {
   "cell_type": "code",
   "execution_count": 52,
   "metadata": {},
   "outputs": [],
   "source": [
    "grouped_df=df.loc[:,['description','location','salary','title','revised_salary','rel_title']]"
   ]
  },
  {
   "cell_type": "code",
   "execution_count": 53,
   "metadata": {
    "scrolled": false
   },
   "outputs": [],
   "source": [
    "#Pulls out the ranks associated with each job ad\n",
    "def ranking(year):\n",
    "    jobs=re.findall('(\\.*?senior*?\\w+)', year,re.IGNORECASE)\n",
    "    jobs1=re.findall('(\\.*?junior*?\\w+)', year,re.IGNORECASE)\n",
    "    jobs2=re.findall('(\\.*?graduate*?\\w+)', year,re.IGNORECASE)\n",
    "    return (jobs,jobs1,jobs2)"
   ]
  },
  {
   "cell_type": "code",
   "execution_count": 54,
   "metadata": {},
   "outputs": [],
   "source": [
    "grouped_df['ranking']=grouped_df.title.map(ranking)"
   ]
  },
  {
   "cell_type": "code",
   "execution_count": 55,
   "metadata": {},
   "outputs": [],
   "source": [
    "#Removes the empty lists that result\n",
    "def just_rank(ranks):\n",
    "    for entry in ranks:\n",
    "        for i in entry:\n",
    "            if len(i)>2:\n",
    "                return(i)\n",
    "            else:\n",
    "                return np.nan"
   ]
  },
  {
   "cell_type": "code",
   "execution_count": 56,
   "metadata": {
    "scrolled": true
   },
   "outputs": [],
   "source": [
    "grouped_df.ranking=grouped_df.ranking.map(just_rank)"
   ]
  },
  {
   "cell_type": "markdown",
   "metadata": {},
   "source": [
    "**Anywhere there was no Seniority level, I instead used the label 'Normal\"**"
   ]
  },
  {
   "cell_type": "code",
   "execution_count": 57,
   "metadata": {
    "scrolled": true
   },
   "outputs": [],
   "source": [
    "grouped_df.ranking.fillna('Normal',inplace=True)"
   ]
  },
  {
   "cell_type": "code",
   "execution_count": 58,
   "metadata": {},
   "outputs": [
    {
     "data": {
      "text/plain": [
       "Normal      1024\n",
       "Senior       245\n",
       "Junior        28\n",
       "senior         8\n",
       "Graduate       7\n",
       "SENIOR         2\n",
       "junior         1\n",
       "Name: ranking, dtype: int64"
      ]
     },
     "execution_count": 58,
     "metadata": {},
     "output_type": "execute_result"
    }
   ],
   "source": [
    "# Are the ranks consistent?\n",
    "grouped_df.ranking.value_counts()"
   ]
  },
  {
   "cell_type": "markdown",
   "metadata": {},
   "source": [
    "Since the ranks I created were not consistent, I replaced them with the appropriate values. \n",
    "\n",
    "I also decided to look at graduate roles as junior roles"
   ]
  },
  {
   "cell_type": "code",
   "execution_count": 59,
   "metadata": {},
   "outputs": [],
   "source": [
    "grouped_df.ranking=grouped_df.ranking.replace({'senior':'Senior','Graduate':'Junior','SENIOR':'Senior','junior':'Junior'})"
   ]
  },
  {
   "cell_type": "code",
   "execution_count": 60,
   "metadata": {},
   "outputs": [
    {
     "data": {
      "text/plain": [
       "Normal    1024\n",
       "Senior     255\n",
       "Junior      36\n",
       "Name: ranking, dtype: int64"
      ]
     },
     "execution_count": 60,
     "metadata": {},
     "output_type": "execute_result"
    }
   ],
   "source": [
    "grouped_df.ranking.value_counts()"
   ]
  },
  {
   "cell_type": "markdown",
   "metadata": {},
   "source": [
    "**Using all this newly created information, I made a new column which encapsulates all that information and splits my dataset into 9 distinct groups**"
   ]
  },
  {
   "cell_type": "code",
   "execution_count": 61,
   "metadata": {
    "scrolled": true
   },
   "outputs": [],
   "source": [
    "grouped_df['category']=grouped_df.rel_title+grouped_df.ranking"
   ]
  },
  {
   "cell_type": "code",
   "execution_count": 62,
   "metadata": {
    "scrolled": true
   },
   "outputs": [
    {
     "data": {
      "text/plain": [
       "Business AnalystNormal    680\n",
       "Data AnalystNormal        201\n",
       "Business AnalystSenior    188\n",
       "Data ScientistNormal      143\n",
       "Data ScientistSenior       39\n",
       "Data AnalystSenior         28\n",
       "Business AnalystJunior     21\n",
       "Data ScientistJunior       10\n",
       "Data AnalystJunior          5\n",
       "Name: category, dtype: int64"
      ]
     },
     "execution_count": 62,
     "metadata": {},
     "output_type": "execute_result"
    }
   ],
   "source": [
    "grouped_df.category.value_counts()"
   ]
  },
  {
   "cell_type": "markdown",
   "metadata": {},
   "source": [
    "### Revisiting the salary\n",
    "Now that I have cleaned up my jobs to have only the relevant job titles, I will now recheck the salaries to determine which ones need correcting. I do make an assumption here though that anything less than $20,000 a year will need to be revised as that is what I believe the bare minimum to be."
   ]
  },
  {
   "cell_type": "code",
   "execution_count": 63,
   "metadata": {},
   "outputs": [
    {
     "data": {
      "text/html": [
       "<div>\n",
       "<style scoped>\n",
       "    .dataframe tbody tr th:only-of-type {\n",
       "        vertical-align: middle;\n",
       "    }\n",
       "\n",
       "    .dataframe tbody tr th {\n",
       "        vertical-align: top;\n",
       "    }\n",
       "\n",
       "    .dataframe thead th {\n",
       "        text-align: right;\n",
       "    }\n",
       "</style>\n",
       "<table border=\"1\" class=\"dataframe\">\n",
       "  <thead>\n",
       "    <tr style=\"text-align: right;\">\n",
       "      <th></th>\n",
       "      <th>description</th>\n",
       "      <th>location</th>\n",
       "      <th>salary</th>\n",
       "      <th>title</th>\n",
       "      <th>revised_salary</th>\n",
       "      <th>rel_title</th>\n",
       "      <th>ranking</th>\n",
       "      <th>category</th>\n",
       "    </tr>\n",
       "  </thead>\n",
       "  <tbody>\n",
       "    <tr>\n",
       "      <th>3418</th>\n",
       "      <td>The Role\\r\\n\\r\\nThis is a 3 month contract wit...</td>\n",
       "      <td>- Brisbane QLD</td>\n",
       "      <td>Business AnalystRobert Half Australia6,883 rev...</td>\n",
       "      <td>Business Analyst</td>\n",
       "      <td>19600.0</td>\n",
       "      <td>Business Analyst</td>\n",
       "      <td>Normal</td>\n",
       "      <td>Business AnalystNormal</td>\n",
       "    </tr>\n",
       "    <tr>\n",
       "      <th>6237</th>\n",
       "      <td>This globally recognised Telco company is curr...</td>\n",
       "      <td>- Sydney NSW</td>\n",
       "      <td>Business Analyst | Telco | Product | $850 p/d ...</td>\n",
       "      <td>Business Analyst | Telco | Product | $850 p/d ...</td>\n",
       "      <td>850.0</td>\n",
       "      <td>Business Analyst</td>\n",
       "      <td>Normal</td>\n",
       "      <td>Business AnalystNormal</td>\n",
       "    </tr>\n",
       "    <tr>\n",
       "      <th>6395</th>\n",
       "      <td>Opportunity for an experienced BA to play a ke...</td>\n",
       "      <td>- Melbourne VIC</td>\n",
       "      <td>Snr Business Analyst - Consumer RetailPia Recr...</td>\n",
       "      <td>Snr Business Analyst - Consumer Retail</td>\n",
       "      <td>22050.0</td>\n",
       "      <td>Business Analyst</td>\n",
       "      <td>Normal</td>\n",
       "      <td>Business AnalystNormal</td>\n",
       "    </tr>\n",
       "    <tr>\n",
       "      <th>6555</th>\n",
       "      <td>Senior Business Analyst contract opportunity a...</td>\n",
       "      <td>- Sydney Central Business District NSW</td>\n",
       "      <td>senior business analyst - digital / agile - $8...</td>\n",
       "      <td>senior business analyst - digital / agile - $8...</td>\n",
       "      <td>850.0</td>\n",
       "      <td>Business Analyst</td>\n",
       "      <td>Senior</td>\n",
       "      <td>Business AnalystSenior</td>\n",
       "    </tr>\n",
       "    <tr>\n",
       "      <th>6565</th>\n",
       "      <td>Senior Business Analyst opportunity at a top t...</td>\n",
       "      <td>- Sydney Central Business District NSW</td>\n",
       "      <td>senior business analyst - trade surveillance -...</td>\n",
       "      <td>senior business analyst - trade surveillance -...</td>\n",
       "      <td>925.0</td>\n",
       "      <td>Business Analyst</td>\n",
       "      <td>Senior</td>\n",
       "      <td>Business AnalystSenior</td>\n",
       "    </tr>\n",
       "    <tr>\n",
       "      <th>6591</th>\n",
       "      <td>Senior Business Analyst contract opportunity a...</td>\n",
       "      <td>- Sydney Central Business District NSW</td>\n",
       "      <td>senior business analyst - ops risk &amp; controls ...</td>\n",
       "      <td>senior business analyst - ops risk &amp; controls ...</td>\n",
       "      <td>850.0</td>\n",
       "      <td>Business Analyst</td>\n",
       "      <td>Senior</td>\n",
       "      <td>Business AnalystSenior</td>\n",
       "    </tr>\n",
       "    <tr>\n",
       "      <th>6621</th>\n",
       "      <td>Lead Business Analyst long-term contract oppor...</td>\n",
       "      <td>- Sydney Central Business District NSW</td>\n",
       "      <td>lead business analyst - financial services - $...</td>\n",
       "      <td>lead business analyst - financial services - $...</td>\n",
       "      <td>900.0</td>\n",
       "      <td>Business Analyst</td>\n",
       "      <td>Normal</td>\n",
       "      <td>Business AnalystNormal</td>\n",
       "    </tr>\n",
       "  </tbody>\n",
       "</table>\n",
       "</div>"
      ],
      "text/plain": [
       "                                            description  \\\n",
       "3418  The Role\\r\\n\\r\\nThis is a 3 month contract wit...   \n",
       "6237  This globally recognised Telco company is curr...   \n",
       "6395  Opportunity for an experienced BA to play a ke...   \n",
       "6555  Senior Business Analyst contract opportunity a...   \n",
       "6565  Senior Business Analyst opportunity at a top t...   \n",
       "6591  Senior Business Analyst contract opportunity a...   \n",
       "6621  Lead Business Analyst long-term contract oppor...   \n",
       "\n",
       "                                     location  \\\n",
       "3418                           - Brisbane QLD   \n",
       "6237                             - Sydney NSW   \n",
       "6395                          - Melbourne VIC   \n",
       "6555   - Sydney Central Business District NSW   \n",
       "6565   - Sydney Central Business District NSW   \n",
       "6591   - Sydney Central Business District NSW   \n",
       "6621   - Sydney Central Business District NSW   \n",
       "\n",
       "                                                 salary  \\\n",
       "3418  Business AnalystRobert Half Australia6,883 rev...   \n",
       "6237  Business Analyst | Telco | Product | $850 p/d ...   \n",
       "6395  Snr Business Analyst - Consumer RetailPia Recr...   \n",
       "6555  senior business analyst - digital / agile - $8...   \n",
       "6565  senior business analyst - trade surveillance -...   \n",
       "6591  senior business analyst - ops risk & controls ...   \n",
       "6621  lead business analyst - financial services - $...   \n",
       "\n",
       "                                                  title  revised_salary  \\\n",
       "3418                                   Business Analyst         19600.0   \n",
       "6237  Business Analyst | Telco | Product | $850 p/d ...           850.0   \n",
       "6395             Snr Business Analyst - Consumer Retail         22050.0   \n",
       "6555  senior business analyst - digital / agile - $8...           850.0   \n",
       "6565  senior business analyst - trade surveillance -...           925.0   \n",
       "6591  senior business analyst - ops risk & controls ...           850.0   \n",
       "6621  lead business analyst - financial services - $...           900.0   \n",
       "\n",
       "             rel_title ranking                category  \n",
       "3418  Business Analyst  Normal  Business AnalystNormal  \n",
       "6237  Business Analyst  Normal  Business AnalystNormal  \n",
       "6395  Business Analyst  Normal  Business AnalystNormal  \n",
       "6555  Business Analyst  Senior  Business AnalystSenior  \n",
       "6565  Business Analyst  Senior  Business AnalystSenior  \n",
       "6591  Business Analyst  Senior  Business AnalystSenior  \n",
       "6621  Business Analyst  Normal  Business AnalystNormal  "
      ]
     },
     "execution_count": 63,
     "metadata": {},
     "output_type": "execute_result"
    }
   ],
   "source": [
    "grouped_df[grouped_df.revised_salary<25000]"
   ]
  },
  {
   "cell_type": "code",
   "execution_count": 64,
   "metadata": {
    "scrolled": true
   },
   "outputs": [
    {
     "data": {
      "text/plain": [
       "'lead business analyst - financial services - $900 to 1000/dayRandstad11,835 reviews - Sydney Central Business District NSWContract'"
      ]
     },
     "execution_count": 64,
     "metadata": {},
     "output_type": "execute_result"
    }
   ],
   "source": [
    "# There are several salaries that are below $1000, it seems my previous regular expression was not able to pick them up\n",
    "grouped_df[grouped_df.revised_salary<25000].iloc[6,2]"
   ]
  },
  {
   "cell_type": "markdown",
   "metadata": {},
   "source": [
    "I used a slightly different approach to solving the problem this time, I again created a new column with the pay rate and gave them all values of 1 to start. Since all the jobs that have the wrong salary are all still as __day rate__, I can simple impute __245__ into the pay rate where the salary is less than $1,000."
   ]
  },
  {
   "cell_type": "code",
   "execution_count": 65,
   "metadata": {},
   "outputs": [],
   "source": [
    "grouped_df['pay_rate']=1"
   ]
  },
  {
   "cell_type": "code",
   "execution_count": 66,
   "metadata": {},
   "outputs": [],
   "source": [
    "grouped_df.loc[(grouped_df.revised_salary < 1000),'pay_rate'] = 245"
   ]
  },
  {
   "cell_type": "markdown",
   "metadata": {},
   "source": [
    "I then simply used the pay rate to once again calculate the yearly salary"
   ]
  },
  {
   "cell_type": "code",
   "execution_count": 67,
   "metadata": {},
   "outputs": [],
   "source": [
    "grouped_df.revised_salary=grouped_df.revised_salary*grouped_df.pay_rate"
   ]
  },
  {
   "cell_type": "code",
   "execution_count": 68,
   "metadata": {},
   "outputs": [],
   "source": [
    "#Dropping the pay rate column as that is no longer needed\n",
    "grouped_df.drop('pay_rate',axis=1,inplace=True)"
   ]
  },
  {
   "cell_type": "code",
   "execution_count": 69,
   "metadata": {},
   "outputs": [
    {
     "data": {
      "text/html": [
       "<div>\n",
       "<style scoped>\n",
       "    .dataframe tbody tr th:only-of-type {\n",
       "        vertical-align: middle;\n",
       "    }\n",
       "\n",
       "    .dataframe tbody tr th {\n",
       "        vertical-align: top;\n",
       "    }\n",
       "\n",
       "    .dataframe thead th {\n",
       "        text-align: right;\n",
       "    }\n",
       "</style>\n",
       "<table border=\"1\" class=\"dataframe\">\n",
       "  <thead>\n",
       "    <tr style=\"text-align: right;\">\n",
       "      <th></th>\n",
       "      <th>description</th>\n",
       "      <th>location</th>\n",
       "      <th>salary</th>\n",
       "      <th>title</th>\n",
       "      <th>revised_salary</th>\n",
       "      <th>rel_title</th>\n",
       "      <th>ranking</th>\n",
       "      <th>category</th>\n",
       "    </tr>\n",
       "  </thead>\n",
       "  <tbody>\n",
       "    <tr>\n",
       "      <th>3418</th>\n",
       "      <td>The Role\\r\\n\\r\\nThis is a 3 month contract wit...</td>\n",
       "      <td>- Brisbane QLD</td>\n",
       "      <td>Business AnalystRobert Half Australia6,883 rev...</td>\n",
       "      <td>Business Analyst</td>\n",
       "      <td>19600.0</td>\n",
       "      <td>Business Analyst</td>\n",
       "      <td>Normal</td>\n",
       "      <td>Business AnalystNormal</td>\n",
       "    </tr>\n",
       "  </tbody>\n",
       "</table>\n",
       "</div>"
      ],
      "text/plain": [
       "                                            description         location  \\\n",
       "3418  The Role\\r\\n\\r\\nThis is a 3 month contract wit...   - Brisbane QLD   \n",
       "\n",
       "                                                 salary             title  \\\n",
       "3418  Business AnalystRobert Half Australia6,883 rev...  Business Analyst   \n",
       "\n",
       "      revised_salary         rel_title ranking                category  \n",
       "3418         19600.0  Business Analyst  Normal  Business AnalystNormal  "
      ]
     },
     "execution_count": 69,
     "metadata": {},
     "output_type": "execute_result"
    }
   ],
   "source": [
    "#checking now that the data for salaries matches my assumption of above $20,000\n",
    "grouped_df[grouped_df.revised_salary<20000]"
   ]
  },
  {
   "cell_type": "markdown",
   "metadata": {},
   "source": [
    "I decided to plot the salaries that I have to help me decide what to do moving on."
   ]
  },
  {
   "cell_type": "code",
   "execution_count": 70,
   "metadata": {},
   "outputs": [
    {
     "data": {
      "text/html": [
       "<div>\n",
       "<style scoped>\n",
       "    .dataframe tbody tr th:only-of-type {\n",
       "        vertical-align: middle;\n",
       "    }\n",
       "\n",
       "    .dataframe tbody tr th {\n",
       "        vertical-align: top;\n",
       "    }\n",
       "\n",
       "    .dataframe thead th {\n",
       "        text-align: right;\n",
       "    }\n",
       "</style>\n",
       "<table border=\"1\" class=\"dataframe\">\n",
       "  <thead>\n",
       "    <tr style=\"text-align: right;\">\n",
       "      <th></th>\n",
       "      <th>description</th>\n",
       "      <th>location</th>\n",
       "      <th>salary</th>\n",
       "      <th>title</th>\n",
       "      <th>revised_salary</th>\n",
       "      <th>rel_title</th>\n",
       "      <th>ranking</th>\n",
       "    </tr>\n",
       "    <tr>\n",
       "      <th>category</th>\n",
       "      <th></th>\n",
       "      <th></th>\n",
       "      <th></th>\n",
       "      <th></th>\n",
       "      <th></th>\n",
       "      <th></th>\n",
       "      <th></th>\n",
       "    </tr>\n",
       "  </thead>\n",
       "  <tbody>\n",
       "    <tr>\n",
       "      <th>Business AnalystJunior</th>\n",
       "      <td>21</td>\n",
       "      <td>21</td>\n",
       "      <td>21</td>\n",
       "      <td>21</td>\n",
       "      <td>5</td>\n",
       "      <td>21</td>\n",
       "      <td>21</td>\n",
       "    </tr>\n",
       "    <tr>\n",
       "      <th>Business AnalystNormal</th>\n",
       "      <td>680</td>\n",
       "      <td>680</td>\n",
       "      <td>680</td>\n",
       "      <td>680</td>\n",
       "      <td>145</td>\n",
       "      <td>680</td>\n",
       "      <td>680</td>\n",
       "    </tr>\n",
       "    <tr>\n",
       "      <th>Business AnalystSenior</th>\n",
       "      <td>188</td>\n",
       "      <td>188</td>\n",
       "      <td>188</td>\n",
       "      <td>188</td>\n",
       "      <td>35</td>\n",
       "      <td>188</td>\n",
       "      <td>188</td>\n",
       "    </tr>\n",
       "    <tr>\n",
       "      <th>Data AnalystJunior</th>\n",
       "      <td>5</td>\n",
       "      <td>5</td>\n",
       "      <td>5</td>\n",
       "      <td>5</td>\n",
       "      <td>2</td>\n",
       "      <td>5</td>\n",
       "      <td>5</td>\n",
       "    </tr>\n",
       "    <tr>\n",
       "      <th>Data AnalystNormal</th>\n",
       "      <td>201</td>\n",
       "      <td>201</td>\n",
       "      <td>201</td>\n",
       "      <td>201</td>\n",
       "      <td>37</td>\n",
       "      <td>201</td>\n",
       "      <td>201</td>\n",
       "    </tr>\n",
       "    <tr>\n",
       "      <th>Data AnalystSenior</th>\n",
       "      <td>28</td>\n",
       "      <td>28</td>\n",
       "      <td>28</td>\n",
       "      <td>28</td>\n",
       "      <td>8</td>\n",
       "      <td>28</td>\n",
       "      <td>28</td>\n",
       "    </tr>\n",
       "    <tr>\n",
       "      <th>Data ScientistJunior</th>\n",
       "      <td>10</td>\n",
       "      <td>10</td>\n",
       "      <td>10</td>\n",
       "      <td>10</td>\n",
       "      <td>2</td>\n",
       "      <td>10</td>\n",
       "      <td>10</td>\n",
       "    </tr>\n",
       "    <tr>\n",
       "      <th>Data ScientistNormal</th>\n",
       "      <td>143</td>\n",
       "      <td>143</td>\n",
       "      <td>143</td>\n",
       "      <td>143</td>\n",
       "      <td>36</td>\n",
       "      <td>143</td>\n",
       "      <td>143</td>\n",
       "    </tr>\n",
       "    <tr>\n",
       "      <th>Data ScientistSenior</th>\n",
       "      <td>39</td>\n",
       "      <td>39</td>\n",
       "      <td>39</td>\n",
       "      <td>39</td>\n",
       "      <td>11</td>\n",
       "      <td>39</td>\n",
       "      <td>39</td>\n",
       "    </tr>\n",
       "  </tbody>\n",
       "</table>\n",
       "</div>"
      ],
      "text/plain": [
       "                        description  location  salary  title  revised_salary  \\\n",
       "category                                                                       \n",
       "Business AnalystJunior           21        21      21     21               5   \n",
       "Business AnalystNormal          680       680     680    680             145   \n",
       "Business AnalystSenior          188       188     188    188              35   \n",
       "Data AnalystJunior                5         5       5      5               2   \n",
       "Data AnalystNormal              201       201     201    201              37   \n",
       "Data AnalystSenior               28        28      28     28               8   \n",
       "Data ScientistJunior             10        10      10     10               2   \n",
       "Data ScientistNormal            143       143     143    143              36   \n",
       "Data ScientistSenior             39        39      39     39              11   \n",
       "\n",
       "                        rel_title  ranking  \n",
       "category                                    \n",
       "Business AnalystJunior         21       21  \n",
       "Business AnalystNormal        680      680  \n",
       "Business AnalystSenior        188      188  \n",
       "Data AnalystJunior              5        5  \n",
       "Data AnalystNormal            201      201  \n",
       "Data AnalystSenior             28       28  \n",
       "Data ScientistJunior           10       10  \n",
       "Data ScientistNormal          143      143  \n",
       "Data ScientistSenior           39       39  "
      ]
     },
     "execution_count": 70,
     "metadata": {},
     "output_type": "execute_result"
    }
   ],
   "source": [
    "grouped_df.groupby(['category']).count()"
   ]
  },
  {
   "cell_type": "markdown",
   "metadata": {},
   "source": [
    "Although some of the categories are quite sparse, I will be using the medians of each of the categories to impute into jobs where no salary exists. This is definitely not the perfect solution but because I intend to tackle question 1 as a regression problem this is the best solution moving forward."
   ]
  },
  {
   "cell_type": "code",
   "execution_count": 71,
   "metadata": {},
   "outputs": [],
   "source": [
    "median_salary=grouped_df.groupby(['category']).median()"
   ]
  },
  {
   "cell_type": "code",
   "execution_count": 72,
   "metadata": {},
   "outputs": [
    {
     "data": {
      "text/plain": [
       "category\n",
       "Data AnalystJunior         73220.0\n",
       "Business AnalystJunior     80000.0\n",
       "Data AnalystNormal         85000.0\n",
       "Data ScientistJunior       85000.0\n",
       "Business AnalystNormal    105000.0\n",
       "Data AnalystSenior        125000.0\n",
       "Data ScientistNormal      125000.0\n",
       "Data ScientistSenior      135000.0\n",
       "Business AnalystSenior    145000.0\n",
       "Name: revised_salary, dtype: float64"
      ]
     },
     "execution_count": 72,
     "metadata": {},
     "output_type": "execute_result"
    }
   ],
   "source": [
    "median_salary.revised_salary.sort_values()"
   ]
  },
  {
   "cell_type": "markdown",
   "metadata": {},
   "source": [
    "I also want to have a salary range in case I intend to use to answer question 1 as a classification.\n",
    "\n",
    "I chose some arbitary levels for the salaries based for the calculated median salary values. I chose these because they made sense to me but normally, it is in this situation where you would need to consult the __domain expert__ to determine what levels are appropriate."
   ]
  },
  {
   "cell_type": "code",
   "execution_count": 73,
   "metadata": {},
   "outputs": [],
   "source": [
    "median_salary['salary_level']=0"
   ]
  },
  {
   "cell_type": "code",
   "execution_count": 74,
   "metadata": {},
   "outputs": [],
   "source": [
    "median_salary.loc[(median_salary.revised_salary <86000 ),'salary_level'] = 'low'\n",
    "median_salary.loc[(median_salary.revised_salary >86000) &(median_salary.revised_salary <126000),'salary_level'] = 'med'\n",
    "median_salary.loc[(median_salary.revised_salary >126000 ),'salary_level'] = 'high'"
   ]
  },
  {
   "cell_type": "code",
   "execution_count": 75,
   "metadata": {},
   "outputs": [
    {
     "data": {
      "text/html": [
       "<div>\n",
       "<style scoped>\n",
       "    .dataframe tbody tr th:only-of-type {\n",
       "        vertical-align: middle;\n",
       "    }\n",
       "\n",
       "    .dataframe tbody tr th {\n",
       "        vertical-align: top;\n",
       "    }\n",
       "\n",
       "    .dataframe thead th {\n",
       "        text-align: right;\n",
       "    }\n",
       "</style>\n",
       "<table border=\"1\" class=\"dataframe\">\n",
       "  <thead>\n",
       "    <tr style=\"text-align: right;\">\n",
       "      <th></th>\n",
       "      <th>revised_salary</th>\n",
       "      <th>salary_level</th>\n",
       "    </tr>\n",
       "    <tr>\n",
       "      <th>category</th>\n",
       "      <th></th>\n",
       "      <th></th>\n",
       "    </tr>\n",
       "  </thead>\n",
       "  <tbody>\n",
       "    <tr>\n",
       "      <th>Business AnalystJunior</th>\n",
       "      <td>80000.0</td>\n",
       "      <td>low</td>\n",
       "    </tr>\n",
       "    <tr>\n",
       "      <th>Business AnalystNormal</th>\n",
       "      <td>105000.0</td>\n",
       "      <td>med</td>\n",
       "    </tr>\n",
       "    <tr>\n",
       "      <th>Business AnalystSenior</th>\n",
       "      <td>145000.0</td>\n",
       "      <td>high</td>\n",
       "    </tr>\n",
       "    <tr>\n",
       "      <th>Data AnalystJunior</th>\n",
       "      <td>73220.0</td>\n",
       "      <td>low</td>\n",
       "    </tr>\n",
       "    <tr>\n",
       "      <th>Data AnalystNormal</th>\n",
       "      <td>85000.0</td>\n",
       "      <td>low</td>\n",
       "    </tr>\n",
       "    <tr>\n",
       "      <th>Data AnalystSenior</th>\n",
       "      <td>125000.0</td>\n",
       "      <td>med</td>\n",
       "    </tr>\n",
       "    <tr>\n",
       "      <th>Data ScientistJunior</th>\n",
       "      <td>85000.0</td>\n",
       "      <td>low</td>\n",
       "    </tr>\n",
       "    <tr>\n",
       "      <th>Data ScientistNormal</th>\n",
       "      <td>125000.0</td>\n",
       "      <td>med</td>\n",
       "    </tr>\n",
       "    <tr>\n",
       "      <th>Data ScientistSenior</th>\n",
       "      <td>135000.0</td>\n",
       "      <td>high</td>\n",
       "    </tr>\n",
       "  </tbody>\n",
       "</table>\n",
       "</div>"
      ],
      "text/plain": [
       "                        revised_salary salary_level\n",
       "category                                           \n",
       "Business AnalystJunior         80000.0          low\n",
       "Business AnalystNormal        105000.0          med\n",
       "Business AnalystSenior        145000.0         high\n",
       "Data AnalystJunior             73220.0          low\n",
       "Data AnalystNormal             85000.0          low\n",
       "Data AnalystSenior            125000.0          med\n",
       "Data ScientistJunior           85000.0          low\n",
       "Data ScientistNormal          125000.0          med\n",
       "Data ScientistSenior          135000.0         high"
      ]
     },
     "execution_count": 75,
     "metadata": {},
     "output_type": "execute_result"
    }
   ],
   "source": [
    "median_salary"
   ]
  },
  {
   "cell_type": "markdown",
   "metadata": {},
   "source": [
    "### Imputing salaries using the medians"
   ]
  },
  {
   "cell_type": "markdown",
   "metadata": {},
   "source": [
    "To continue on with the next part of the cleaning, I will have to replace any null values with 'none' so that there will be something I can use to call later on. I also created a new column to add in the salary classes that I worked out as well."
   ]
  },
  {
   "cell_type": "code",
   "execution_count": 76,
   "metadata": {},
   "outputs": [],
   "source": [
    "grouped_df.revised_salary.fillna('none',inplace=True)"
   ]
  },
  {
   "cell_type": "code",
   "execution_count": 77,
   "metadata": {},
   "outputs": [],
   "source": [
    "grouped_df['salary_level']=0"
   ]
  },
  {
   "cell_type": "markdown",
   "metadata": {},
   "source": [
    "##### Imputing the salaries as a continuous variable."
   ]
  },
  {
   "cell_type": "code",
   "execution_count": 78,
   "metadata": {
    "scrolled": true
   },
   "outputs": [],
   "source": [
    "#For each job category, if the salary is non existent, \n",
    "#take the median salary for that category and replace the null value with it\n",
    "for i in grouped_df.category.unique():\n",
    "    grouped_df.loc[(grouped_df.category == i)&(grouped_df.revised_salary =='none'),\n",
    "                   'revised_salary'] = median_salary.loc[i,'revised_salary']"
   ]
  },
  {
   "cell_type": "markdown",
   "metadata": {},
   "source": [
    "###### Imputing the salaries as a class"
   ]
  },
  {
   "cell_type": "code",
   "execution_count": 79,
   "metadata": {},
   "outputs": [],
   "source": [
    "#For each job category impute the salary level based on the job title and the ranges I set earlier\n",
    "for i in grouped_df.category.unique():\n",
    "    grouped_df.loc[(grouped_df.category == i),\n",
    "                   'salary_level'] = median_salary.loc[i,'salary_level']"
   ]
  },
  {
   "cell_type": "code",
   "execution_count": 80,
   "metadata": {},
   "outputs": [
    {
     "data": {
      "text/html": [
       "<div>\n",
       "<style scoped>\n",
       "    .dataframe tbody tr th:only-of-type {\n",
       "        vertical-align: middle;\n",
       "    }\n",
       "\n",
       "    .dataframe tbody tr th {\n",
       "        vertical-align: top;\n",
       "    }\n",
       "\n",
       "    .dataframe thead th {\n",
       "        text-align: right;\n",
       "    }\n",
       "</style>\n",
       "<table border=\"1\" class=\"dataframe\">\n",
       "  <thead>\n",
       "    <tr style=\"text-align: right;\">\n",
       "      <th></th>\n",
       "      <th>description</th>\n",
       "      <th>location</th>\n",
       "      <th>salary</th>\n",
       "      <th>title</th>\n",
       "      <th>revised_salary</th>\n",
       "      <th>rel_title</th>\n",
       "      <th>ranking</th>\n",
       "      <th>category</th>\n",
       "      <th>salary_level</th>\n",
       "    </tr>\n",
       "  </thead>\n",
       "  <tbody>\n",
       "    <tr>\n",
       "      <th>17</th>\n",
       "      <td>Digital Sales Business Analyst\\r\\nOpportunity ...</td>\n",
       "      <td>- Sydney NSW</td>\n",
       "      <td>Digital Business AnalystQantas Airways Limited...</td>\n",
       "      <td>Digital Business Analyst</td>\n",
       "      <td>105000</td>\n",
       "      <td>Business Analyst</td>\n",
       "      <td>Normal</td>\n",
       "      <td>Business AnalystNormal</td>\n",
       "      <td>med</td>\n",
       "    </tr>\n",
       "    <tr>\n",
       "      <th>21</th>\n",
       "      <td>About the role : As a Business Analyst you wou...</td>\n",
       "      <td>- Sydney NSW</td>\n",
       "      <td>Business AnalystProject Professional Services ...</td>\n",
       "      <td>Business Analyst</td>\n",
       "      <td>102500</td>\n",
       "      <td>Business Analyst</td>\n",
       "      <td>Normal</td>\n",
       "      <td>Business AnalystNormal</td>\n",
       "      <td>med</td>\n",
       "    </tr>\n",
       "    <tr>\n",
       "      <th>32</th>\n",
       "      <td>TNT Express is one of the world's leading prov...</td>\n",
       "      <td>- Mascot NSW</td>\n",
       "      <td>Business AnalystTNT Express2,136 reviews - Mas...</td>\n",
       "      <td>Business Analyst</td>\n",
       "      <td>105000</td>\n",
       "      <td>Business Analyst</td>\n",
       "      <td>Normal</td>\n",
       "      <td>Business AnalystNormal</td>\n",
       "      <td>med</td>\n",
       "    </tr>\n",
       "    <tr>\n",
       "      <th>34</th>\n",
       "      <td>For over 15 years Quantium have combined the b...</td>\n",
       "      <td>- Sydney NSW</td>\n",
       "      <td>Agile Business AnalystQuantium13 reviews - Syd...</td>\n",
       "      <td>Agile Business Analyst</td>\n",
       "      <td>105000</td>\n",
       "      <td>Business Analyst</td>\n",
       "      <td>Normal</td>\n",
       "      <td>Business AnalystNormal</td>\n",
       "      <td>med</td>\n",
       "    </tr>\n",
       "    <tr>\n",
       "      <th>36</th>\n",
       "      <td>A vacancy exists in the above unit for a highl...</td>\n",
       "      <td>- Darlinghurst NSW</td>\n",
       "      <td>Business AnalystSt Vincent's Health Network - ...</td>\n",
       "      <td>Business Analyst</td>\n",
       "      <td>105000</td>\n",
       "      <td>Business Analyst</td>\n",
       "      <td>Normal</td>\n",
       "      <td>Business AnalystNormal</td>\n",
       "      <td>med</td>\n",
       "    </tr>\n",
       "  </tbody>\n",
       "</table>\n",
       "</div>"
      ],
      "text/plain": [
       "                                          description             location  \\\n",
       "17  Digital Sales Business Analyst\\r\\nOpportunity ...         - Sydney NSW   \n",
       "21  About the role : As a Business Analyst you wou...         - Sydney NSW   \n",
       "32  TNT Express is one of the world's leading prov...         - Mascot NSW   \n",
       "34  For over 15 years Quantium have combined the b...         - Sydney NSW   \n",
       "36  A vacancy exists in the above unit for a highl...   - Darlinghurst NSW   \n",
       "\n",
       "                                               salary  \\\n",
       "17  Digital Business AnalystQantas Airways Limited...   \n",
       "21  Business AnalystProject Professional Services ...   \n",
       "32  Business AnalystTNT Express2,136 reviews - Mas...   \n",
       "34  Agile Business AnalystQuantium13 reviews - Syd...   \n",
       "36  Business AnalystSt Vincent's Health Network - ...   \n",
       "\n",
       "                       title revised_salary         rel_title ranking  \\\n",
       "17  Digital Business Analyst         105000  Business Analyst  Normal   \n",
       "21          Business Analyst         102500  Business Analyst  Normal   \n",
       "32          Business Analyst         105000  Business Analyst  Normal   \n",
       "34    Agile Business Analyst         105000  Business Analyst  Normal   \n",
       "36          Business Analyst         105000  Business Analyst  Normal   \n",
       "\n",
       "                  category salary_level  \n",
       "17  Business AnalystNormal          med  \n",
       "21  Business AnalystNormal          med  \n",
       "32  Business AnalystNormal          med  \n",
       "34  Business AnalystNormal          med  \n",
       "36  Business AnalystNormal          med  "
      ]
     },
     "execution_count": 80,
     "metadata": {},
     "output_type": "execute_result"
    }
   ],
   "source": [
    "grouped_df.head()"
   ]
  },
  {
   "cell_type": "markdown",
   "metadata": {},
   "source": [
    "## Extracting locations"
   ]
  },
  {
   "cell_type": "markdown",
   "metadata": {},
   "source": [
    "I will now extract the locations from the information provided. I will be extracting down to the suburb level where possible."
   ]
  },
  {
   "cell_type": "code",
   "execution_count": 81,
   "metadata": {},
   "outputs": [
    {
     "name": "stderr",
     "output_type": "stream",
     "text": [
      "C:\\Users\\Jennifer\\Anaconda3\\lib\\site-packages\\ipykernel_launcher.py:4: UserWarning: This pattern has match groups. To actually get the groups, use str.extract.\n",
      "  after removing the cwd from sys.path.\n",
      "C:\\Users\\Jennifer\\Anaconda3\\lib\\site-packages\\ipykernel_launcher.py:5: UserWarning: This pattern has match groups. To actually get the groups, use str.extract.\n",
      "  \"\"\"\n",
      "C:\\Users\\Jennifer\\Anaconda3\\lib\\site-packages\\ipykernel_launcher.py:6: UserWarning: This pattern has match groups. To actually get the groups, use str.extract.\n",
      "  \n",
      "C:\\Users\\Jennifer\\Anaconda3\\lib\\site-packages\\ipykernel_launcher.py:7: UserWarning: This pattern has match groups. To actually get the groups, use str.extract.\n",
      "  import sys\n",
      "C:\\Users\\Jennifer\\Anaconda3\\lib\\site-packages\\ipykernel_launcher.py:8: UserWarning: This pattern has match groups. To actually get the groups, use str.extract.\n",
      "  \n",
      "C:\\Users\\Jennifer\\Anaconda3\\lib\\site-packages\\ipykernel_launcher.py:9: UserWarning: This pattern has match groups. To actually get the groups, use str.extract.\n",
      "  if __name__ == '__main__':\n",
      "C:\\Users\\Jennifer\\Anaconda3\\lib\\site-packages\\ipykernel_launcher.py:10: UserWarning: This pattern has match groups. To actually get the groups, use str.extract.\n",
      "  # Remove the CWD from sys.path while we load stuff.\n",
      "C:\\Users\\Jennifer\\Anaconda3\\lib\\site-packages\\ipykernel_launcher.py:16: UserWarning: This pattern has match groups. To actually get the groups, use str.extract.\n",
      "  app.launch_new_instance()\n",
      "C:\\Users\\Jennifer\\Anaconda3\\lib\\site-packages\\ipykernel_launcher.py:17: UserWarning: This pattern has match groups. To actually get the groups, use str.extract.\n"
     ]
    }
   ],
   "source": [
    "#Using regular expression, if the location contains specific key words, I want to give it a specific value,\n",
    "# if it contains 'NSW', I want the value to be 'NSW'. The reason why some have the case specified is because some of the\n",
    "#entries are not in the same format\n",
    "grouped_df.loc[grouped_df.location.str.contains('(\\.*?NSW*?\\w+)'),'state']='NSW'\n",
    "grouped_df.loc[grouped_df.location.str.contains('(\\.*?VIC*?\\w+)',case=False),'state']='VIC'\n",
    "grouped_df.loc[grouped_df.location.str.contains('(\\.*?QLD*?\\w+)'),'state']='QLD'\n",
    "grouped_df.loc[grouped_df.location.str.contains('(\\.*?SA)'),'state']='SA'\n",
    "grouped_df.loc[grouped_df.location.str.contains('(\\.*?NT)'),'state']='NT'\n",
    "grouped_df.loc[grouped_df.location.str.contains('(\\.*?ACT*?\\w+)'),'state']='ACT'\n",
    "grouped_df.loc[grouped_df.location.str.contains('(\\.*?WA*?\\w+)'),'state']='WA'\n",
    "\n",
    "#After going through the list, any rows which don't have a value I can assume were missed by my regular expression,\n",
    "#I went through and made sure to catch these with different regular expression\n",
    "##For the locations which are simply listed as AUS, I assumed they were for NSW simply because that is where most\n",
    "##of the jobs are\n",
    "grouped_df.loc[grouped_df.location.str.contains('(\\.*?aus*?\\w+)',case=False),'state']='NSW'\n",
    "grouped_df.loc[grouped_df.location.str.contains('(\\.*?que*?\\w+)',case=False),'state']='QLD'"
   ]
  },
  {
   "cell_type": "code",
   "execution_count": 82,
   "metadata": {},
   "outputs": [],
   "source": [
    "grouped_df['city']=grouped_df.location.str.replace('(\\.*?NSW*?\\w+)','').str.replace('(\\.*?VIC*?\\w+)','',\n",
    "case=False).str.replace('(\\.*?QLD*?\\w+)','').str.replace('(\\.*?SA)','').str.replace('(\\.*?NT)','').str.replace('(\\.*?ACT*?\\w+)'\n",
    ",'').str.replace('(\\.*?WA*?\\w+)','').str.replace('(\\.*?aus*?\\w+)','',case=False).str.replace('(\\.*?queensland*?\\w+)',''\n",
    ",case=False).str.replace('-','')"
   ]
  },
  {
   "cell_type": "markdown",
   "metadata": {},
   "source": [
    "## Final dataframe removing irrelevant information\n",
    "For the next steps of modelling, I will need to just the relevant columns that I have created. I will drop the collumns that are no longer needed."
   ]
  },
  {
   "cell_type": "code",
   "execution_count": 83,
   "metadata": {},
   "outputs": [],
   "source": [
    "imputed_salaries=grouped_df.drop(['location','salary'], axis=1)"
   ]
  },
  {
   "cell_type": "code",
   "execution_count": 84,
   "metadata": {},
   "outputs": [
    {
     "data": {
      "text/html": [
       "<div>\n",
       "<style scoped>\n",
       "    .dataframe tbody tr th:only-of-type {\n",
       "        vertical-align: middle;\n",
       "    }\n",
       "\n",
       "    .dataframe tbody tr th {\n",
       "        vertical-align: top;\n",
       "    }\n",
       "\n",
       "    .dataframe thead th {\n",
       "        text-align: right;\n",
       "    }\n",
       "</style>\n",
       "<table border=\"1\" class=\"dataframe\">\n",
       "  <thead>\n",
       "    <tr style=\"text-align: right;\">\n",
       "      <th></th>\n",
       "      <th>description</th>\n",
       "      <th>title</th>\n",
       "      <th>revised_salary</th>\n",
       "      <th>rel_title</th>\n",
       "      <th>ranking</th>\n",
       "      <th>category</th>\n",
       "      <th>salary_level</th>\n",
       "      <th>state</th>\n",
       "      <th>city</th>\n",
       "    </tr>\n",
       "  </thead>\n",
       "  <tbody>\n",
       "    <tr>\n",
       "      <th>17</th>\n",
       "      <td>Digital Sales Business Analyst\\r\\nOpportunity ...</td>\n",
       "      <td>Digital Business Analyst</td>\n",
       "      <td>105000</td>\n",
       "      <td>Business Analyst</td>\n",
       "      <td>Normal</td>\n",
       "      <td>Business AnalystNormal</td>\n",
       "      <td>med</td>\n",
       "      <td>NSW</td>\n",
       "      <td>Sydney</td>\n",
       "    </tr>\n",
       "    <tr>\n",
       "      <th>21</th>\n",
       "      <td>About the role : As a Business Analyst you wou...</td>\n",
       "      <td>Business Analyst</td>\n",
       "      <td>102500</td>\n",
       "      <td>Business Analyst</td>\n",
       "      <td>Normal</td>\n",
       "      <td>Business AnalystNormal</td>\n",
       "      <td>med</td>\n",
       "      <td>NSW</td>\n",
       "      <td>Sydney</td>\n",
       "    </tr>\n",
       "    <tr>\n",
       "      <th>32</th>\n",
       "      <td>TNT Express is one of the world's leading prov...</td>\n",
       "      <td>Business Analyst</td>\n",
       "      <td>105000</td>\n",
       "      <td>Business Analyst</td>\n",
       "      <td>Normal</td>\n",
       "      <td>Business AnalystNormal</td>\n",
       "      <td>med</td>\n",
       "      <td>NSW</td>\n",
       "      <td>Mascot</td>\n",
       "    </tr>\n",
       "    <tr>\n",
       "      <th>34</th>\n",
       "      <td>For over 15 years Quantium have combined the b...</td>\n",
       "      <td>Agile Business Analyst</td>\n",
       "      <td>105000</td>\n",
       "      <td>Business Analyst</td>\n",
       "      <td>Normal</td>\n",
       "      <td>Business AnalystNormal</td>\n",
       "      <td>med</td>\n",
       "      <td>NSW</td>\n",
       "      <td>Sydney</td>\n",
       "    </tr>\n",
       "    <tr>\n",
       "      <th>36</th>\n",
       "      <td>A vacancy exists in the above unit for a highl...</td>\n",
       "      <td>Business Analyst</td>\n",
       "      <td>105000</td>\n",
       "      <td>Business Analyst</td>\n",
       "      <td>Normal</td>\n",
       "      <td>Business AnalystNormal</td>\n",
       "      <td>med</td>\n",
       "      <td>NSW</td>\n",
       "      <td>Darlinghurst</td>\n",
       "    </tr>\n",
       "  </tbody>\n",
       "</table>\n",
       "</div>"
      ],
      "text/plain": [
       "                                          description  \\\n",
       "17  Digital Sales Business Analyst\\r\\nOpportunity ...   \n",
       "21  About the role : As a Business Analyst you wou...   \n",
       "32  TNT Express is one of the world's leading prov...   \n",
       "34  For over 15 years Quantium have combined the b...   \n",
       "36  A vacancy exists in the above unit for a highl...   \n",
       "\n",
       "                       title revised_salary         rel_title ranking  \\\n",
       "17  Digital Business Analyst         105000  Business Analyst  Normal   \n",
       "21          Business Analyst         102500  Business Analyst  Normal   \n",
       "32          Business Analyst         105000  Business Analyst  Normal   \n",
       "34    Agile Business Analyst         105000  Business Analyst  Normal   \n",
       "36          Business Analyst         105000  Business Analyst  Normal   \n",
       "\n",
       "                  category salary_level state             city  \n",
       "17  Business AnalystNormal          med   NSW          Sydney   \n",
       "21  Business AnalystNormal          med   NSW          Sydney   \n",
       "32  Business AnalystNormal          med   NSW          Mascot   \n",
       "34  Business AnalystNormal          med   NSW          Sydney   \n",
       "36  Business AnalystNormal          med   NSW    Darlinghurst   "
      ]
     },
     "execution_count": 84,
     "metadata": {},
     "output_type": "execute_result"
    }
   ],
   "source": [
    "imputed_salaries.head()"
   ]
  },
  {
   "cell_type": "code",
   "execution_count": 85,
   "metadata": {},
   "outputs": [],
   "source": [
    "#Removing any spaces that were reminants from how the cities were created using regex\n",
    "imputed_salaries.city=imputed_salaries.city.apply(lambda x:\"\".join(x.split()))"
   ]
  }
 ],
 "metadata": {
  "kernelspec": {
   "display_name": "Python 3",
   "language": "python",
   "name": "python3"
  },
  "language_info": {
   "codemirror_mode": {
    "name": "ipython",
    "version": 3
   },
   "file_extension": ".py",
   "mimetype": "text/x-python",
   "name": "python",
   "nbconvert_exporter": "python",
   "pygments_lexer": "ipython3",
   "version": "3.6.5"
  },
  "toc": {
   "base_numbering": 1,
   "nav_menu": {},
   "number_sections": true,
   "sideBar": false,
   "skip_h1_title": true,
   "title_cell": "Table of Contents",
   "title_sidebar": "Contents",
   "toc_cell": true,
   "toc_position": {
    "height": "100px",
    "left": "10px",
    "top": "150px",
    "width": "165px"
   },
   "toc_section_display": true,
   "toc_window_display": false
  }
 },
 "nbformat": 4,
 "nbformat_minor": 2
}
